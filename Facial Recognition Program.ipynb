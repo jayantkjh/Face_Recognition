{
 "cells": [
  {
   "cell_type": "markdown",
   "id": "f926457d",
   "metadata": {},
   "source": [
    "# DATA INPUT"
   ]
  },
  {
   "cell_type": "code",
   "execution_count": 1,
   "id": "26736886",
   "metadata": {},
   "outputs": [
    {
     "name": "stderr",
     "output_type": "stream",
     "text": [
      "<>:9: SyntaxWarning: \"is\" with a literal. Did you mean \"==\"?\n",
      "<>:9: SyntaxWarning: \"is\" with a literal. Did you mean \"==\"?\n",
      "<ipython-input-1-dd791cd04802>:9: SyntaxWarning: \"is\" with a literal. Did you mean \"==\"?\n",
      "  if faces is ():\n"
     ]
    },
    {
     "name": "stdout",
     "output_type": "stream",
     "text": [
      "Face not Found\n",
      "Face not Found\n",
      "Face not Found\n",
      "Face not Found\n",
      "Face not Found\n",
      "Face not Found\n",
      "Face not Found\n",
      "Face not Found\n",
      "Face not Found\n",
      "Face not Found\n",
      "Face not Found\n",
      "Face not Found\n",
      "All Samples Collected\n"
     ]
    }
   ],
   "source": [
    "import cv2\n",
    "import numpy as np\n",
    "\n",
    "face_model = cv2.CascadeClassifier('haarcascade_frontalface_default.xml')\n",
    "\n",
    "def face_extracter(img):\n",
    "    gray = cv2.cvtColor(img, cv2.COLOR_BGR2GRAY)\n",
    "    faces = face_model.detectMultiScale(gray, 1.3, 5)\n",
    "    if faces is ():\n",
    "        return None\n",
    "\n",
    "    for (x, y, w, h) in faces:\n",
    "        cropped_face = img[y:y+h, x:x+w]\n",
    "    return cropped_face\n",
    "\n",
    "cap = cv2.VideoCapture(0)\n",
    "count = 0\n",
    "\n",
    "while True:\n",
    "    ret, frame = cap.read()\n",
    "    if face_extracter(frame) is not None:\n",
    "        count += 1\n",
    "        face = cv2.resize(face_extracter(frame), (150, 150))\n",
    "        face = cv2.cvtColor(face, cv2.COLOR_BGR2GRAY)\n",
    "\n",
    "        file_name_path = './faces/user1/' + str(count) + '.jpg'\n",
    "        cv2.imwrite(file_name_path, face)\n",
    "\n",
    "        cv2.putText(face, str(count), (50, 50), cv2.FONT_HERSHEY_COMPLEX_SMALL, \n",
    "        1, (0, 255,0), 2)\n",
    "        cv2.imshow(\"Face\", face)\n",
    "\n",
    "\n",
    "    else:\n",
    "        print(\"Face not Found\")\n",
    "        pass\n",
    "\n",
    "    if cv2.waitKey(1) == 13 or count == 600:\n",
    "        break\n",
    "\n",
    "cap.release()\n",
    "cv2.destroyAllWindows()\n",
    "print(\"All Samples Collected\")"
   ]
  },
  {
   "cell_type": "markdown",
   "id": "25558e84",
   "metadata": {},
   "source": [
    "#  Model Creation\n"
   ]
  },
  {
   "cell_type": "code",
   "execution_count": 2,
   "id": "9c26cceb",
   "metadata": {},
   "outputs": [
    {
     "name": "stdout",
     "output_type": "stream",
     "text": [
      "Model for user1 trained...\n"
     ]
    }
   ],
   "source": [
    "import cv2\n",
    "import numpy as np\n",
    "from os import listdir\n",
    "from os.path import isfile, join\n",
    "\n",
    "\n",
    "data_path = './faces/user1/'\n",
    "onlyfiles = [f for f in listdir(data_path) if isfile(join(data_path, f))]\n",
    "\n",
    "Training_Data, Labels = [], []\n",
    "\n",
    "for i, files in enumerate(onlyfiles):\n",
    "    image_path = data_path + onlyfiles[i]\n",
    "    images = cv2.imread(image_path, cv2.IMREAD_GRAYSCALE)\n",
    "    Training_Data.append(np.asarray(images, dtype=np.uint8))\n",
    "    Labels.append(i)\n",
    "\n",
    "Labels = np.asarray(Labels, dtype=np.int32)\n",
    "\n",
    "user1_model  = cv2.face_LBPHFaceRecognizer.create()\n",
    "user1_model.train(np.asarray(Training_Data), np.asarray(Labels))\n",
    "\n",
    "user1_model.save('user1_model.yml')\n",
    "print(\"Model for user1 trained...\")\n"
   ]
  },
  {
   "cell_type": "markdown",
   "id": "014f32ae",
   "metadata": {},
   "source": [
    "# Testing our Facial Recognition Program"
   ]
  },
  {
   "cell_type": "code",
   "execution_count": 3,
   "id": "5f3cd14c",
   "metadata": {},
   "outputs": [],
   "source": [
    "import cv2\n",
    "import numpy as np\n",
    "import os\n",
    "import time\n",
    "from datetime import datetime\n",
    "import pywhatkit\n",
    "import pyttsx3\n",
    "import smtplib\n",
    "import imghdr\n",
    "from email.message import EmailMessage\n",
    "\n",
    "    \n",
    "\n"
   ]
  },
  {
   "cell_type": "code",
   "execution_count": 4,
   "id": "a5148471",
   "metadata": {},
   "outputs": [
    {
     "name": "stderr",
     "output_type": "stream",
     "text": [
      "<>:10: SyntaxWarning: \"is\" with a literal. Did you mean \"==\"?\n",
      "<>:10: SyntaxWarning: \"is\" with a literal. Did you mean \"==\"?\n",
      "<ipython-input-4-febc888b5baa>:10: SyntaxWarning: \"is\" with a literal. Did you mean \"==\"?\n",
      "  if faces is ():\n"
     ]
    },
    {
     "name": "stdout",
     "output_type": "stream",
     "text": [
      "hi\n",
      "Mail Successfully Sent...\n",
      "In 12 seconds web.whatsapp.com will open and after 20 seconds message will be delivered\n",
      "message sent\n",
      "instance launched and EBS volume attached \n"
     ]
    }
   ],
   "source": [
    "face_classifier = cv2.CascadeClassifier('haarcascade_frontalface_default.xml')\n",
    "user1_model = cv2.face_LBPHFaceRecognizer.create()\n",
    "user1_model.read('user1_model.yml')\n",
    "flag = 0\n",
    "\n",
    "def face_detector(img, size=0.5):\n",
    "    \n",
    "    gray = cv2.cvtColor(img,cv2.COLOR_BGR2GRAY)\n",
    "    faces = face_classifier.detectMultiScale(gray, 1.3, 5)\n",
    "    if faces is ():\n",
    "        return img, []\n",
    "    \n",
    "    for (x,y,w,h) in faces:\n",
    "        cv2.rectangle(img,(x,y),(x+w,y+h),(0,255,255),2)\n",
    "        roi = img[y:y+h, x:x+w]\n",
    "        roi = cv2.resize(roi, (200, 200))\n",
    "    return img, roi\n",
    "\n",
    "cap = cv2.VideoCapture(0, cv2.CAP_DSHOW)\n",
    "\n",
    "while True:\n",
    "\n",
    "    ret, frame = cap.read()\n",
    "    \n",
    "    image, face = face_detector(frame)\n",
    "    \n",
    "    try:\n",
    "        face = cv2.cvtColor(face, cv2.COLOR_BGR2GRAY)\n",
    "        results = user1_model.predict(face)\n",
    "        \n",
    "        if results[1] < 500:\n",
    "            confidence = int( 100 * (1 - (results[1])/400) )\n",
    "            display_string = str(confidence) + '% Confident it is User'\n",
    "            \n",
    "        cv2.putText(image, display_string, (100, 120), cv2.FONT_HERSHEY_COMPLEX, 1, (255,120,150), 2)\n",
    "        \n",
    "        if confidence >= 80:\n",
    "            \n",
    "            cv2.putText(image, \"Hello Jayant\", (250, 450), cv2.FONT_HERSHEY_COMPLEX, 1, (0,0,255), 2)\n",
    "          \n",
    "            cv2.imshow('Face Recognition', image )\n",
    "            \n",
    "            flag = 1\n",
    "            print(\"hi\")\n",
    "            sp= pyttsx3.init()\n",
    "            sp.say(\"Hello Jayant\")\n",
    "            sp.runAndWait()\n",
    "            time.sleep(2)\n",
    "           \n",
    "            break\n",
    "            \n",
    "         \n",
    "        else:\n",
    "            \n",
    "            cv2.putText(image, \"I dont know, who are u\", (250, 450), cv2.FONT_HERSHEY_COMPLEX, 1, (0,0,255), 2)\n",
    "            cv2.imshow('Face Recognition', image )\n",
    "\n",
    "    except:\n",
    "        cv2.putText(image, \"No Face Found\", (220, 120) , cv2.FONT_HERSHEY_COMPLEX, 1, (0,0,255), 2)\n",
    "        cv2.putText(image, \"looking for face\", (250, 450), cv2.FONT_HERSHEY_COMPLEX, 1, (0,0,255), 2)\n",
    "        cv2.imshow('Face Recognition', image )\n",
    "        pass\n",
    "        \n",
    "    if cv2.waitKey(1) == 13:\n",
    "        break\n",
    "        \n",
    "cap.release()\n",
    "cv2.destroyAllWindows()\n",
    "if flag==1:\n",
    "    #sending a mail\n",
    "    h = open('gmail_password.txt', 'r')\n",
    "    content = h.readlines()\n",
    "    str1=\"\"\n",
    "    for line in content:\n",
    "        for i in line:\n",
    "            str1=str1+i\n",
    "    Sender= \"Jayantkumarkjh123@gmail.com\"\n",
    "    Reciever = \"jayant.kumarpathak@aot.edu.in\"\n",
    "    Password = str1\n",
    "    newMessage = EmailMessage()                         \n",
    "    newMessage['Subject'] = \"Careful\" \n",
    "    newMessage['From'] = Sender                   \n",
    "    newMessage['To'] = Reciever                  \n",
    "    newMessage.set_content('Hey, We found Jayant') \n",
    "    with smtplib.SMTP_SSL('smtp.gmail.com', 465) as smtp:\n",
    "        smtp.login(Sender, Password)              \n",
    "        smtp.send_message(newMessage) \n",
    "        print(\"Mail Successfully Sent...\")\n",
    "    \n",
    "    \n",
    "    #sending a whatsapp message\n",
    "    h = open('mobno.txt', 'r')\n",
    "    content = h.readlines()\n",
    "    str1=\"\"\n",
    "    for line in content:\n",
    "        for i in line:\n",
    "            str1=str1+i\n",
    "    #number=int(str1)           \n",
    "    now = datetime.now()\n",
    "    hours = int(now.strftime(\"%H\"))\n",
    "    minutes = int(now.strftime(\"%M\")) + 1\n",
    "    pywhatkit.sendwhatmsg(str1, \"Hey, someone is here \",hours,minutes)\n",
    "    print(\"message sent\")\n",
    "    \n",
    "    #creating instance and attaching volume in AWS using Terraform\n",
    "    os.system(\"terraform init\")    \n",
    "    os.system(\"terraform apply --auto-approve\")\n",
    "    print(\"instance launched and EBS volume attached \")\n",
    "    "
   ]
  },
  {
   "cell_type": "code",
   "execution_count": null,
   "id": "0ecd1b64",
   "metadata": {},
   "outputs": [],
   "source": []
  }
 ],
 "metadata": {
  "kernelspec": {
   "display_name": "Python 3",
   "language": "python",
   "name": "python3"
  },
  "language_info": {
   "codemirror_mode": {
    "name": "ipython",
    "version": 3
   },
   "file_extension": ".py",
   "mimetype": "text/x-python",
   "name": "python",
   "nbconvert_exporter": "python",
   "pygments_lexer": "ipython3",
   "version": "3.8.8"
  }
 },
 "nbformat": 4,
 "nbformat_minor": 5
}
